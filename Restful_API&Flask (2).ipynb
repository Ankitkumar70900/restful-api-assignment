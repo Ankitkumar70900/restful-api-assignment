{
  "cells": [
    {
      "cell_type": "code",
      "execution_count": 2,
      "metadata": {
        "colab": {
          "base_uri": "https://localhost:8080/",
          "height": 53
        },
        "id": "0D1rhdxGr0vU",
        "outputId": "fe54ae65-ed3b-434b-e589-17d797d54869"
      },
      "outputs": [
        {
          "output_type": "execute_result",
          "data": {
            "text/plain": [
              "'What is a Restful API?\\nA RESTul API(Representational State Transfer) is a web service that uses HTTP methods\\n(GET,POST,PUT,DELETE) to perform CRUD operations.It treats resources as URL and ensures stateless\\ncommunication between the client and the server.'"
            ],
            "application/vnd.google.colaboratory.intrinsic+json": {
              "type": "string"
            }
          },
          "metadata": {},
          "execution_count": 2
        }
      ],
      "source": [
        "'''What is a Restful API?\n",
        "A RESTul API(Representational State Transfer) is a web service that uses HTTP methods\n",
        "(GET,POST,PUT,DELETE) to perform CRUD operations.It treats resources as URL and ensures stateless\n",
        "communication between the client and the server.'''\n"
      ]
    },
    {
      "cell_type": "code",
      "execution_count": 3,
      "metadata": {
        "colab": {
          "base_uri": "https://localhost:8080/",
          "height": 53
        },
        "id": "XXcwXZe7tiih",
        "outputId": "59c46dc7-9db4-4edf-fcd9-0812a363e446"
      },
      "outputs": [
        {
          "output_type": "execute_result",
          "data": {
            "text/plain": [
              "'Explain the concept of API specification.\\nAn API specification defines how an API behaves-including endpoinrs,methods,\\ninput/output formats,authentication, and error codes.Examples:OpenAPI/Swagger.'"
            ],
            "application/vnd.google.colaboratory.intrinsic+json": {
              "type": "string"
            }
          },
          "metadata": {},
          "execution_count": 3
        }
      ],
      "source": [
        "'''Explain the concept of API specification.\n",
        "An API specification defines how an API behaves-including endpoinrs,methods,\n",
        "input/output formats,authentication, and error codes.Examples:OpenAPI/Swagger.'''"
      ]
    },
    {
      "cell_type": "code",
      "execution_count": 4,
      "metadata": {
        "colab": {
          "base_uri": "https://localhost:8080/",
          "height": 53
        },
        "id": "ccip-T2KuUL2",
        "outputId": "37e571df-5e7d-4553-db3b-fc57d840e654"
      },
      "outputs": [
        {
          "output_type": "execute_result",
          "data": {
            "text/plain": [
              "\"What is Flask,and why is it popular for building APIs?\\nFlask is a lightweight Pythhon web framework. It's popular for APIs because it's simple\\n,Flexible,supports extension,and allows quick development with minimal code.\""
            ],
            "application/vnd.google.colaboratory.intrinsic+json": {
              "type": "string"
            }
          },
          "metadata": {},
          "execution_count": 4
        }
      ],
      "source": [
        "'''What is Flask,and why is it popular for building APIs?\n",
        "Flask is a lightweight Pythhon web framework. It's popular for APIs because it's simple\n",
        ",Flexible,supports extension,and allows quick development with minimal code.'''"
      ]
    },
    {
      "cell_type": "code",
      "execution_count": 5,
      "metadata": {
        "colab": {
          "base_uri": "https://localhost:8080/",
          "height": 53
        },
        "id": "E_08r3mavIKc",
        "outputId": "805f580b-4ee5-4245-e541-ef01362cfbd5"
      },
      "outputs": [
        {
          "output_type": "execute_result",
          "data": {
            "text/plain": [
              "\"What is routing in Flask?\\nRouting maps URLs to Python functions.Flask uses decorators like @app.route('/path')\\nto define which function handles a given URL request.\""
            ],
            "application/vnd.google.colaboratory.intrinsic+json": {
              "type": "string"
            }
          },
          "metadata": {},
          "execution_count": 5
        }
      ],
      "source": [
        "'''What is routing in Flask?\n",
        "Routing maps URLs to Python functions.Flask uses decorators like @app.route('/path')\n",
        "to define which function handles a given URL request.'''"
      ]
    },
    {
      "cell_type": "code",
      "execution_count": 6,
      "metadata": {
        "colab": {
          "base_uri": "https://localhost:8080/",
          "height": 53
        },
        "id": "gUg4p1r7vm78",
        "outputId": "a19d23fd-7228-48c3-ce98-2359477b7e5d"
      },
      "outputs": [
        {
          "output_type": "execute_result",
          "data": {
            "text/plain": [
              "'How do you create a simple Flask application?\\nfrom flask import Flask\\napp = Flask(__name__)\\n\\n@app.route(\\'/\\')\\ndef home():\\n    return \"Hello, Flask!\"\\n\\nif __name__ == \\'__main__\\':\\n    app.run()\\n'"
            ],
            "application/vnd.google.colaboratory.intrinsic+json": {
              "type": "string"
            }
          },
          "metadata": {},
          "execution_count": 6
        }
      ],
      "source": [
        "'''How do you create a simple Flask application?\n",
        "from flask import Flask\n",
        "app = Flask(__name__)\n",
        "\n",
        "@app.route('/')\n",
        "def home():\n",
        "    return \"Hello, Flask!\"\n",
        "\n",
        "if __name__ == '__main__':\n",
        "    app.run()\n",
        "'''"
      ]
    },
    {
      "cell_type": "code",
      "execution_count": 7,
      "metadata": {
        "colab": {
          "base_uri": "https://localhost:8080/",
          "height": 53
        },
        "id": "AwFBhqeFwEeu",
        "outputId": "5b36f931-4f4e-4e9c-8c13-8e15321934da"
      },
      "outputs": [
        {
          "output_type": "execute_result",
          "data": {
            "text/plain": [
              "'What are HTTP method used in RESTful APIs?\\nGET:Retrieve data\\nPOST:Submit data\\nPUT:Update existing data\\nDELETE:Delete data\\nPATCH:Partial update.'"
            ],
            "application/vnd.google.colaboratory.intrinsic+json": {
              "type": "string"
            }
          },
          "metadata": {},
          "execution_count": 7
        }
      ],
      "source": [
        "'''What are HTTP method used in RESTful APIs?\n",
        "GET:Retrieve data\n",
        "POST:Submit data\n",
        "PUT:Update existing data\n",
        "DELETE:Delete data\n",
        "PATCH:Partial update.'''\n"
      ]
    },
    {
      "cell_type": "code",
      "execution_count": 8,
      "metadata": {
        "colab": {
          "base_uri": "https://localhost:8080/",
          "height": 53
        },
        "id": "t58ju2wawnLV",
        "outputId": "0c6dc0b8-935e-41df-d320-cbe44f69cfa7"
      },
      "outputs": [
        {
          "output_type": "execute_result",
          "data": {
            "text/plain": [
              "'What is the purpose of the @app.route() decorator in Flask?\\nIt binds a URL path to a view function, enabling Flask to trigger that function when the\\nroute is accessed.'"
            ],
            "application/vnd.google.colaboratory.intrinsic+json": {
              "type": "string"
            }
          },
          "metadata": {},
          "execution_count": 8
        }
      ],
      "source": [
        "'''What is the purpose of the @app.route() decorator in Flask?\n",
        "It binds a URL path to a view function, enabling Flask to trigger that function when the\n",
        "route is accessed.'''"
      ]
    },
    {
      "cell_type": "code",
      "execution_count": 9,
      "metadata": {
        "colab": {
          "base_uri": "https://localhost:8080/",
          "height": 53
        },
        "id": "yxQmhalvxFAq",
        "outputId": "1e468ea7-17d6-4bd1-d9f6-834e79e79141"
      },
      "outputs": [
        {
          "output_type": "execute_result",
          "data": {
            "text/plain": [
              "'What is the difference between GET and Post methods?\\nGET:Sends data via URL,used for fetching data.\\nPOST:Sends data via body,used for creating resources or submitting forms.'"
            ],
            "application/vnd.google.colaboratory.intrinsic+json": {
              "type": "string"
            }
          },
          "metadata": {},
          "execution_count": 9
        }
      ],
      "source": [
        "'''What is the difference between GET and Post methods?\n",
        "GET:Sends data via URL,used for fetching data.\n",
        "POST:Sends data via body,used for creating resources or submitting forms.'''"
      ]
    },
    {
      "cell_type": "code",
      "execution_count": 10,
      "metadata": {
        "colab": {
          "base_uri": "https://localhost:8080/",
          "height": 53
        },
        "id": "N04RLkD9xln4",
        "outputId": "a73b1fe6-1b23-4927-a77d-7f412b617f59"
      },
      "outputs": [
        {
          "output_type": "execute_result",
          "data": {
            "text/plain": [
              "'How do you handle errors in Flask APIs?\\nUsing error handlers:\\n@app.errorhandler(404)\\ndef not_found(e):\\n    return {\"error\": \"Not Found\"}, 404\\n'"
            ],
            "application/vnd.google.colaboratory.intrinsic+json": {
              "type": "string"
            }
          },
          "metadata": {},
          "execution_count": 10
        }
      ],
      "source": [
        "'''How do you handle errors in Flask APIs?\n",
        "Using error handlers:\n",
        "@app.errorhandler(404)\n",
        "def not_found(e):\n",
        "    return {\"error\": \"Not Found\"}, 404\n",
        "'''"
      ]
    },
    {
      "cell_type": "code",
      "execution_count": 11,
      "metadata": {
        "colab": {
          "base_uri": "https://localhost:8080/",
          "height": 53
        },
        "id": "fW2UX5s9x62N",
        "outputId": "66c12064-41b0-4beb-8b15-19cdb99485b1"
      },
      "outputs": [
        {
          "output_type": "execute_result",
          "data": {
            "text/plain": [
              "\"How do you connect Flask to a SQL database?\\nUsing Flask-SQLAlchemy:\\nfrom flask_sqlalchemy import SQLAlchemy\\napp.config['SQLALCHEMY_DATABASE_URI'] = 'sqlite:///test.db'\\ndb = SQLAlchemy(app)\\n\""
            ],
            "application/vnd.google.colaboratory.intrinsic+json": {
              "type": "string"
            }
          },
          "metadata": {},
          "execution_count": 11
        }
      ],
      "source": [
        "'''How do you connect Flask to a SQL database?\n",
        "Using Flask-SQLAlchemy:\n",
        "from flask_sqlalchemy import SQLAlchemy\n",
        "app.config['SQLALCHEMY_DATABASE_URI'] = 'sqlite:///test.db'\n",
        "db = SQLAlchemy(app)\n",
        "'''"
      ]
    },
    {
      "cell_type": "code",
      "execution_count": 12,
      "metadata": {
        "colab": {
          "base_uri": "https://localhost:8080/",
          "height": 53
        },
        "id": "7iIIeNyyyLOU",
        "outputId": "209fbd79-899d-4aeb-813b-750ee69ca947"
      },
      "outputs": [
        {
          "output_type": "execute_result",
          "data": {
            "text/plain": [
              "\"What is the role of Flask-SQLAlchemy?\\nIt's an ORM extension for Flask that simplifies interaction with databases using Python\\nclasses instead of SQL queries.\""
            ],
            "application/vnd.google.colaboratory.intrinsic+json": {
              "type": "string"
            }
          },
          "metadata": {},
          "execution_count": 12
        }
      ],
      "source": [
        "'''What is the role of Flask-SQLAlchemy?\n",
        "It's an ORM extension for Flask that simplifies interaction with databases using Python\n",
        "classes instead of SQL queries.'''"
      ]
    },
    {
      "cell_type": "code",
      "execution_count": 13,
      "metadata": {
        "colab": {
          "base_uri": "https://localhost:8080/",
          "height": 53
        },
        "id": "tqTOrLmyytZE",
        "outputId": "ef7a80df-704d-41d7-95d1-c290e083647d"
      },
      "outputs": [
        {
          "output_type": "execute_result",
          "data": {
            "text/plain": [
              "'What are Flask blueprints, and how are they useful?\\nBlueprints organize Flask apps into modules(e.g.,auth,user). They support scalability\\nand cleaner code by separating routes logically.'"
            ],
            "application/vnd.google.colaboratory.intrinsic+json": {
              "type": "string"
            }
          },
          "metadata": {},
          "execution_count": 13
        }
      ],
      "source": [
        "'''What are Flask blueprints, and how are they useful?\n",
        "Blueprints organize Flask apps into modules(e.g.,auth,user). They support scalability\n",
        "and cleaner code by separating routes logically.'''"
      ]
    },
    {
      "cell_type": "code",
      "execution_count": 14,
      "metadata": {
        "colab": {
          "base_uri": "https://localhost:8080/",
          "height": 53
        },
        "id": "viHw1h70zToa",
        "outputId": "a8341a65-fb18-43a2-ab93-8258e16e6ddb"
      },
      "outputs": [
        {
          "output_type": "execute_result",
          "data": {
            "text/plain": [
              "\"What is the purpose of Flask's request object?\\nIt provides access to incoming request data such as form data,JSON,headers,query parameters\\nand files.\""
            ],
            "application/vnd.google.colaboratory.intrinsic+json": {
              "type": "string"
            }
          },
          "metadata": {},
          "execution_count": 14
        }
      ],
      "source": [
        "'''What is the purpose of Flask's request object?\n",
        "It provides access to incoming request data such as form data,JSON,headers,query parameters\n",
        "and files.'''"
      ]
    },
    {
      "cell_type": "code",
      "execution_count": 15,
      "metadata": {
        "colab": {
          "base_uri": "https://localhost:8080/",
          "height": 53
        },
        "id": "6e75swiBz0tw",
        "outputId": "11e17612-94cf-4211-daf8-75a3ed6c8b64"
      },
      "outputs": [
        {
          "output_type": "execute_result",
          "data": {
            "text/plain": [
              "'How do you create a RESTful API endpoint using Flask?\\n@app.route(\\'/api/user/<int:id>\\', methods=[\\'GET\\'])\\ndef get_user(id):\\n    return {\"id\": id, \"name\": \"Ankit\"}\\n'"
            ],
            "application/vnd.google.colaboratory.intrinsic+json": {
              "type": "string"
            }
          },
          "metadata": {},
          "execution_count": 15
        }
      ],
      "source": [
        "'''How do you create a RESTful API endpoint using Flask?\n",
        "@app.route('/api/user/<int:id>', methods=['GET'])\n",
        "def get_user(id):\n",
        "    return {\"id\": id, \"name\": \"Ankit\"}\n",
        "'''"
      ]
    },
    {
      "cell_type": "code",
      "execution_count": 16,
      "metadata": {
        "colab": {
          "base_uri": "https://localhost:8080/",
          "height": 36
        },
        "id": "52oNgIHU0HmM",
        "outputId": "093687d6-7905-4325-e325-e23ae901a9bc"
      },
      "outputs": [
        {
          "output_type": "execute_result",
          "data": {
            "text/plain": [
              "\"What is the purpose of Flask's jsonify() function?\\njsonify()converts Python dictionaries to a JSON reponse with correct headers.\""
            ],
            "application/vnd.google.colaboratory.intrinsic+json": {
              "type": "string"
            }
          },
          "metadata": {},
          "execution_count": 16
        }
      ],
      "source": [
        "'''What is the purpose of Flask's jsonify() function?\n",
        "jsonify()converts Python dictionaries to a JSON reponse with correct headers.'''"
      ]
    },
    {
      "cell_type": "code",
      "execution_count": 17,
      "metadata": {
        "colab": {
          "base_uri": "https://localhost:8080/",
          "height": 53
        },
        "id": "FywrtePu0lyY",
        "outputId": "cb3329ea-44a8-4cd3-d7e4-75560632cf3e"
      },
      "outputs": [
        {
          "output_type": "execute_result",
          "data": {
            "text/plain": [
              "\"Explain Flask's url_for() function.\\nIt dynamically generates URLs for a given function name.Useful for avoiding hardcoded\\nURLs.\\nurl_for('home')  # returns '/' \""
            ],
            "application/vnd.google.colaboratory.intrinsic+json": {
              "type": "string"
            }
          },
          "metadata": {},
          "execution_count": 17
        }
      ],
      "source": [
        "'''Explain Flask's url_for() function.\n",
        "It dynamically generates URLs for a given function name.Useful for avoiding hardcoded\n",
        "URLs.\n",
        "url_for('home')  # returns '/' '''"
      ]
    },
    {
      "cell_type": "code",
      "execution_count": 18,
      "metadata": {
        "colab": {
          "base_uri": "https://localhost:8080/",
          "height": 36
        },
        "id": "3b_cnpxP1LeD",
        "outputId": "2cf88911-7681-4938-fec3-c7217197e77f"
      },
      "outputs": [
        {
          "output_type": "execute_result",
          "data": {
            "text/plain": [
              "'How does Flask handles static files (CSS,JavaScript,etc)?\\nFlask serves static files from the static/folder.Accessed via /static/<filename>.'"
            ],
            "application/vnd.google.colaboratory.intrinsic+json": {
              "type": "string"
            }
          },
          "metadata": {},
          "execution_count": 18
        }
      ],
      "source": [
        "'''How does Flask handles static files (CSS,JavaScript,etc)?\n",
        "Flask serves static files from the static/folder.Accessed via /static/<filename>.'''"
      ]
    },
    {
      "cell_type": "code",
      "execution_count": 19,
      "metadata": {
        "colab": {
          "base_uri": "https://localhost:8080/",
          "height": 53
        },
        "id": "fH-Xsl8N1mlA",
        "outputId": "58835ec5-05aa-4c5e-d521-a478cba2dd69"
      },
      "outputs": [
        {
          "output_type": "execute_result",
          "data": {
            "text/plain": [
              "'What is an API specification,and how does it help in building a Flask API ?\\nIt serves as a blueprint, ensuring consistent implementation,documentation,and\\nintegration.Example:Swagger.'"
            ],
            "application/vnd.google.colaboratory.intrinsic+json": {
              "type": "string"
            }
          },
          "metadata": {},
          "execution_count": 19
        }
      ],
      "source": [
        "'''What is an API specification,and how does it help in building a Flask API ?\n",
        "It serves as a blueprint, ensuring consistent implementation,documentation,and\n",
        "integration.Example:Swagger.'''"
      ]
    },
    {
      "cell_type": "code",
      "execution_count": 20,
      "metadata": {
        "colab": {
          "base_uri": "https://localhost:8080/",
          "height": 53
        },
        "id": "ke_e_JCf2Lru",
        "outputId": "6b7ebc7d-9c98-4dad-b9c0-44735c74a6a3"
      },
      "outputs": [
        {
          "output_type": "execute_result",
          "data": {
            "text/plain": [
              "'What are HTTP status codes, and why are they important in a Flask API?\\nThey indicate the result of an HTTP request(e.g.,200 OK,404 Not Found).Useful for client-side logic and debugging.'"
            ],
            "application/vnd.google.colaboratory.intrinsic+json": {
              "type": "string"
            }
          },
          "metadata": {},
          "execution_count": 20
        }
      ],
      "source": [
        "'''What are HTTP status codes, and why are they important in a Flask API?\n",
        "They indicate the result of an HTTP request(e.g.,200 OK,404 Not Found).Useful for client-side logic and debugging.'''"
      ]
    },
    {
      "cell_type": "code",
      "execution_count": 21,
      "metadata": {
        "colab": {
          "base_uri": "https://localhost:8080/",
          "height": 53
        },
        "id": "Vx5cT6TA2x3H",
        "outputId": "9042b05d-1bfb-4482-a5f1-8627c80aee89"
      },
      "outputs": [
        {
          "output_type": "execute_result",
          "data": {
            "text/plain": [
              "\"How do you handle POST request in Flask?\\nfrom flask import request\\n\\n@app.route('/submit', methods=['POST'])\\ndef submit():\\n    data = request.json\\n    return jsonify(data)\\n\""
            ],
            "application/vnd.google.colaboratory.intrinsic+json": {
              "type": "string"
            }
          },
          "metadata": {},
          "execution_count": 21
        }
      ],
      "source": [
        "'''How do you handle POST request in Flask?\n",
        "from flask import request\n",
        "\n",
        "@app.route('/submit', methods=['POST'])\n",
        "def submit():\n",
        "    data = request.json\n",
        "    return jsonify(data)\n",
        "'''"
      ]
    },
    {
      "cell_type": "code",
      "execution_count": 22,
      "metadata": {
        "colab": {
          "base_uri": "https://localhost:8080/",
          "height": 53
        },
        "id": "VH2FcLKD2_3g",
        "outputId": "d4905f14-a262-4d72-cc74-2599083a903e"
      },
      "outputs": [
        {
          "output_type": "execute_result",
          "data": {
            "text/plain": [
              "'How would you secure a Flask API?\\nUse HTTPS\\nToken-based authentication(JWT)\\nInput validation & sanitization\\nAPI key or OAuth4\\nRate limiting (Flask-Limiter)'"
            ],
            "application/vnd.google.colaboratory.intrinsic+json": {
              "type": "string"
            }
          },
          "metadata": {},
          "execution_count": 22
        }
      ],
      "source": [
        "'''How would you secure a Flask API?\n",
        "Use HTTPS\n",
        "Token-based authentication(JWT)\n",
        "Input validation & sanitization\n",
        "API key or OAuth4\n",
        "Rate limiting (Flask-Limiter)'''"
      ]
    },
    {
      "cell_type": "code",
      "execution_count": 23,
      "metadata": {
        "colab": {
          "base_uri": "https://localhost:8080/",
          "height": 53
        },
        "id": "hBnuWSx53sLL",
        "outputId": "b9c01506-d1de-4f67-adab-e7a673be10ed"
      },
      "outputs": [
        {
          "output_type": "execute_result",
          "data": {
            "text/plain": [
              "'What is the significance of the Flask-RESTful extension?\\nIt simplifies building REST APIs with Flask using Resource classes and automatic request\\nparsing.'"
            ],
            "application/vnd.google.colaboratory.intrinsic+json": {
              "type": "string"
            }
          },
          "metadata": {},
          "execution_count": 23
        }
      ],
      "source": [
        "'''What is the significance of the Flask-RESTful extension?\n",
        "It simplifies building REST APIs with Flask using Resource classes and automatic request\n",
        "parsing.'''"
      ]
    },
    {
      "cell_type": "code",
      "execution_count": 24,
      "metadata": {
        "colab": {
          "base_uri": "https://localhost:8080/",
          "height": 53
        },
        "id": "JVLY70gW4Ph1",
        "outputId": "da638bea-2509-4030-dc35-df6b24891601"
      },
      "outputs": [
        {
          "output_type": "execute_result",
          "data": {
            "text/plain": [
              "\"What is the role of Flask's session object?\\nIt stores user data between request using cookies.Useful for login session or temporary\\ndata storage.\""
            ],
            "application/vnd.google.colaboratory.intrinsic+json": {
              "type": "string"
            }
          },
          "metadata": {},
          "execution_count": 24
        }
      ],
      "source": [
        "'''What is the role of Flask's session object?\n",
        "It stores user data between request using cookies.Useful for login session or temporary\n",
        "data storage.'''"
      ]
    },
    {
      "cell_type": "markdown",
      "metadata": {
        "id": "MFBzHkRFZmok"
      },
      "source": [
        "## PRACTICAL SOLUTION"
      ]
    },
    {
      "cell_type": "code",
      "source": [
        "!pip install flask-ngrok\n"
      ],
      "metadata": {
        "colab": {
          "base_uri": "https://localhost:8080/"
        },
        "id": "n9Mcyd8Qb-Sg",
        "outputId": "9a7b88c0-a78c-4fdc-80ab-16a42d6c07bc"
      },
      "execution_count": 25,
      "outputs": [
        {
          "output_type": "stream",
          "name": "stdout",
          "text": [
            "Requirement already satisfied: flask-ngrok in /usr/local/lib/python3.11/dist-packages (0.0.25)\n",
            "Requirement already satisfied: Flask>=0.8 in /usr/local/lib/python3.11/dist-packages (from flask-ngrok) (3.1.1)\n",
            "Requirement already satisfied: requests in /usr/local/lib/python3.11/dist-packages (from flask-ngrok) (2.32.3)\n",
            "Requirement already satisfied: blinker>=1.9.0 in /usr/local/lib/python3.11/dist-packages (from Flask>=0.8->flask-ngrok) (1.9.0)\n",
            "Requirement already satisfied: click>=8.1.3 in /usr/local/lib/python3.11/dist-packages (from Flask>=0.8->flask-ngrok) (8.2.1)\n",
            "Requirement already satisfied: itsdangerous>=2.2.0 in /usr/local/lib/python3.11/dist-packages (from Flask>=0.8->flask-ngrok) (2.2.0)\n",
            "Requirement already satisfied: jinja2>=3.1.2 in /usr/local/lib/python3.11/dist-packages (from Flask>=0.8->flask-ngrok) (3.1.6)\n",
            "Requirement already satisfied: markupsafe>=2.1.1 in /usr/local/lib/python3.11/dist-packages (from Flask>=0.8->flask-ngrok) (3.0.2)\n",
            "Requirement already satisfied: werkzeug>=3.1.0 in /usr/local/lib/python3.11/dist-packages (from Flask>=0.8->flask-ngrok) (3.1.3)\n",
            "Requirement already satisfied: charset-normalizer<4,>=2 in /usr/local/lib/python3.11/dist-packages (from requests->flask-ngrok) (3.4.2)\n",
            "Requirement already satisfied: idna<4,>=2.5 in /usr/local/lib/python3.11/dist-packages (from requests->flask-ngrok) (3.10)\n",
            "Requirement already satisfied: urllib3<3,>=1.21.1 in /usr/local/lib/python3.11/dist-packages (from requests->flask-ngrok) (2.5.0)\n",
            "Requirement already satisfied: certifi>=2017.4.17 in /usr/local/lib/python3.11/dist-packages (from requests->flask-ngrok) (2025.7.14)\n"
          ]
        }
      ]
    },
    {
      "cell_type": "code",
      "execution_count": null,
      "metadata": {
        "colab": {
          "base_uri": "https://localhost:8080/"
        },
        "id": "PukJNBjz4pXf",
        "outputId": "ec02aab5-c29f-4cca-f39a-dd62258485df"
      },
      "outputs": [
        {
          "output_type": "stream",
          "name": "stdout",
          "text": [
            " * Serving Flask app '__main__'\n",
            " * Debug mode: on\n"
          ]
        },
        {
          "output_type": "stream",
          "name": "stderr",
          "text": [
            "INFO:werkzeug:\u001b[31m\u001b[1mWARNING: This is a development server. Do not use it in a production deployment. Use a production WSGI server instead.\u001b[0m\n",
            " * Running on http://127.0.0.1:5000\n",
            "INFO:werkzeug:\u001b[33mPress CTRL+C to quit\u001b[0m\n",
            "INFO:werkzeug: * Restarting with stat\n"
          ]
        }
      ],
      "source": [
        "#How do you create a basic Flask application?\n",
        "from flask import Flask\n",
        "app=Flask(__name__)\n",
        "\n",
        "@app.route('/')\n",
        "def home():\n",
        "    return \"Hello,Flask!\"\n",
        "if __name__=='__main__':\n",
        "        app.run(debug=True)"
      ]
    },
    {
      "cell_type": "code",
      "execution_count": null,
      "metadata": {
        "id": "uli5fxA_aX5O"
      },
      "outputs": [],
      "source": [
        "<!-- In HTML -->\n",
        "<link rel=\"stylesheet\" href=\"{{ url_for('static', filename='style.css') }}\">\n",
        "<img src=\"{{ url_for('static', filename='images/logo.png') }}\">\n"
      ]
    },
    {
      "cell_type": "code",
      "execution_count": null,
      "metadata": {
        "id": "SY-eIgFkbRZB"
      },
      "outputs": [],
      "source": [
        "@app.route('/submit', methods=['GET', 'POST'])\n",
        "def submit():\n",
        "    if request.method == 'POST':\n",
        "        return \"Form submitted\"\n",
        "    return \"Submit Form\"\n"
      ]
    },
    {
      "cell_type": "code",
      "execution_count": null,
      "metadata": {
        "id": "w3kOH2nkbi30"
      },
      "outputs": [],
      "source": [
        "from flask import render_template\n",
        "\n",
        "@app.route('/welcome')\n",
        "def welcome():\n",
        "    return render_template('welcome.html', name=\"Ankit\")\n"
      ]
    },
    {
      "cell_type": "code",
      "execution_count": null,
      "metadata": {
        "id": "lIiUBjrsbiX_"
      },
      "outputs": [],
      "source": [
        "from flask import url_for\n",
        "\n",
        "@app.route('/profile/<username>')\n",
        "def profile(username):\n",
        "    return f\"Profile: {username}\"\n",
        "\n",
        "# url_for('profile', username='ankit') => \"/profile/ankit\"\n"
      ]
    },
    {
      "cell_type": "code",
      "execution_count": null,
      "metadata": {
        "id": "8xY8b3VBcBjL"
      },
      "outputs": [],
      "source": [
        "from flask import request\n",
        "\n",
        "@app.route('/form', methods=['POST'])\n",
        "def form():\n",
        "    username = request.form['username']\n",
        "    return f\"Hello {username}\"\n"
      ]
    },
    {
      "cell_type": "code",
      "execution_count": null,
      "metadata": {
        "id": "ua0WkLrqcKWx"
      },
      "outputs": [],
      "source": [
        "#How can you validate form data in Flask?\n",
        "from flask_wtf import FlaskForm\n",
        "from wtforms import StringField\n",
        "from wtforms.validators import DataRequired\n",
        "\n",
        "class MyForm(FlaskForm):\n",
        "   name = StringField('Name', validators=[DataRequired()])\n"
      ]
    },
    {
      "cell_type": "code",
      "execution_count": null,
      "metadata": {
        "id": "e0h5uSLscZJ2"
      },
      "outputs": [],
      "source": [
        "#How do you manage session in Flask?\n",
        "from flask import session\n",
        "\n",
        " app.secret_key = 'your_secret_key'\n",
        " session['user'] = 'Ankit'\n",
        " user = session.get('user')\n"
      ]
    },
    {
      "cell_type": "code",
      "execution_count": null,
      "metadata": {
        "id": "jXf_XCgTcjpL"
      },
      "outputs": [],
      "source": [
        "#How do you redirect to a different route in Flask?\n",
        "#from flask import redirect, url_for\n",
        "\n",
        "@app.route('/go-home')\n",
        "def go_home():\n",
        "   return redirect(url_for('home'))\n"
      ]
    },
    {
      "cell_type": "code",
      "execution_count": 1,
      "metadata": {
        "id": "eL3wKDoSc1Ms",
        "colab": {
          "base_uri": "https://localhost:8080/",
          "height": 193
        },
        "outputId": "f3da7496-58dd-41ca-a822-ae7948ce33d6"
      },
      "outputs": [
        {
          "output_type": "error",
          "ename": "NameError",
          "evalue": "name 'app' is not defined",
          "traceback": [
            "\u001b[0;31m---------------------------------------------------------------------------\u001b[0m",
            "\u001b[0;31mNameError\u001b[0m                                 Traceback (most recent call last)",
            "\u001b[0;32m/tmp/ipython-input-3760278507.py\u001b[0m in \u001b[0;36m<cell line: 0>\u001b[0;34m()\u001b[0m\n\u001b[1;32m      1\u001b[0m \u001b[0;31m#How do you handle errors in Flask (e.g.,404)?\u001b[0m\u001b[0;34m\u001b[0m\u001b[0;34m\u001b[0m\u001b[0m\n\u001b[0;32m----> 2\u001b[0;31m \u001b[0;34m@\u001b[0m\u001b[0mapp\u001b[0m\u001b[0;34m.\u001b[0m\u001b[0merrorhandler\u001b[0m\u001b[0;34m(\u001b[0m\u001b[0;36m404\u001b[0m\u001b[0;34m)\u001b[0m\u001b[0;34m\u001b[0m\u001b[0;34m\u001b[0m\u001b[0m\n\u001b[0m\u001b[1;32m      3\u001b[0m \u001b[0;32mdef\u001b[0m \u001b[0mpage_not_found\u001b[0m\u001b[0;34m(\u001b[0m\u001b[0me\u001b[0m\u001b[0;34m)\u001b[0m\u001b[0;34m:\u001b[0m\u001b[0;34m\u001b[0m\u001b[0;34m\u001b[0m\u001b[0m\n\u001b[1;32m      4\u001b[0m    \u001b[0;32mreturn\u001b[0m \u001b[0mrender_template\u001b[0m\u001b[0;34m(\u001b[0m\u001b[0;34m'404.html'\u001b[0m\u001b[0;34m)\u001b[0m\u001b[0;34m,\u001b[0m \u001b[0;36m404\u001b[0m\u001b[0;34m\u001b[0m\u001b[0;34m\u001b[0m\u001b[0m\n",
            "\u001b[0;31mNameError\u001b[0m: name 'app' is not defined"
          ]
        }
      ],
      "source": [
        "#How do you handle errors in Flask (e.g.,404)?\n",
        "@app.errorhandler(404)\n",
        "def page_not_found(e):\n",
        "   return render_template('404.html'), 404\n"
      ]
    },
    {
      "cell_type": "code",
      "execution_count": null,
      "metadata": {
        "id": "oVoMPbhZdFN5"
      },
      "outputs": [],
      "source": [
        "@app.template_filter('capitalize_all')\n",
        "def capitalize_all(s):\n",
        "    return s.upper()\n",
        "\n",
        "\n"
      ]
    },
    {
      "cell_type": "code",
      "execution_count": null,
      "metadata": {
        "id": "K75hMl5rdRPX"
      },
      "outputs": [],
      "source": [
        "return redirect(url_for('search', q='flask'))\n",
        "\n",
        "@app.route('/search')\n",
        "def search():\n",
        "    query = request.args.get('q')\n",
        "    return f\"Search for: {query}\"\n"
      ]
    },
    {
      "cell_type": "code",
      "execution_count": null,
      "metadata": {
        "id": "ERNI54KadfPv"
      },
      "outputs": [],
      "source": [
        "return redirect(url_for('search', q='flask'))\n",
        "\n",
        "@app.route('/search')\n",
        "def search():\n",
        "    query = request.args.get('q')\n",
        "    return f\"Search for: {query}\"\n"
      ]
    },
    {
      "cell_type": "code",
      "execution_count": null,
      "metadata": {
        "id": "Z0O3j3zNdf3M"
      },
      "outputs": [],
      "source": [
        "from flask import jsonify\n",
        "\n",
        "@app.route('/api/data')\n",
        "def api_data():\n",
        "    return jsonify(name=\"Ankit\", age=23)\n"
      ]
    },
    {
      "cell_type": "code",
      "execution_count": null,
      "metadata": {
        "id": "M24K3RsedgGX"
      },
      "outputs": [],
      "source": [
        "@app.route('/user/<username>')\n",
        "def user_profile(username):\n",
        "    return f\"Username: {username}\"\n"
      ]
    }
  ],
  "metadata": {
    "colab": {
      "provenance": []
    },
    "kernelspec": {
      "display_name": "Python 3",
      "name": "python3"
    },
    "language_info": {
      "name": "python"
    }
  },
  "nbformat": 4,
  "nbformat_minor": 0
}